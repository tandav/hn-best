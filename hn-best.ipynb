{
 "cells": [
  {
   "cell_type": "code",
   "execution_count": 1,
   "metadata": {},
   "outputs": [],
   "source": [
    "import requests"
   ]
  },
  {
   "cell_type": "code",
   "execution_count": 2,
   "metadata": {},
   "outputs": [],
   "source": [
    "r = requests.get('https://hacker-news.firebaseio.com/v0/topstories.json?print=pretty')"
   ]
  },
  {
   "cell_type": "code",
   "execution_count": 9,
   "metadata": {},
   "outputs": [],
   "source": [
    "r = requests.get('https://hacker-news.firebaseio.com/v0/beststories.json?print=pretty')"
   ]
  },
  {
   "cell_type": "code",
   "execution_count": 7,
   "metadata": {},
   "outputs": [],
   "source": [
    "top = set(r.json())"
   ]
  },
  {
   "cell_type": "code",
   "execution_count": 10,
   "metadata": {},
   "outputs": [],
   "source": [
    "best = set(r.json())"
   ]
  },
  {
   "cell_type": "code",
   "execution_count": 15,
   "metadata": {},
   "outputs": [
    {
     "name": "stdout",
     "output_type": "stream",
     "text": [
      "{17153540, 17143304, 17147404, 17132044, 17155087, 17148432, 17158162, 17132058, 17142815, 17154083, 17148965, 17134117, 17147944, 17149995, 17155124, 17157180, 17155644, 17142334, 17160767, 17153090, 17134658, 17150531, 17151046, 17134663, 17151560, 17134668, 17140812, 17146451, 17143382, 17142875, 17137757, 17159778, 17145446, 17139305, 17138794, 17137266, 17152630, 17152631, 17141368, 17150073, 17137278, 17143429, 17162887, 17134218, 17134738, 17133203, 17135767, 17143452, 17160349, 17155230, 17161887, 17161890, 17149604, 17139881, 17133227, 17136301, 17138356, 17151671, 17153721, 17139394, 17147075, 17140934, 17143494, 17135316, 17132248, 17162971, 17142492, 17143516, 17132256, 17135841, 17143520, 17161955, 17134308, 17135338, 17154797, 17139438, 17134831, 17146609, 17131766, 17143543, 17133823, 17152768, 17146626, 17138949, 17163013, 17159946, 17154826, 17137932, 17150221, 17152782, 17162000, 17146129, 17134864, 17133329, 17152284, 17148192, 17141024, 17145123, 17155370, 17144108, 17150252, 17135922, 17154355, 17151801, 17157437, 17161533, 17134911, 17161536, 17157439, 17135426, 17153856, 17151813, 17160518, 17140039, 17143109, 17135945, 17159497, 17162057, 17161032, 17159493, 17160526, 17161036, 17150801, 17140060, 17153886, 17144160, 17133416, 17162089, 17156976, 17134451, 17145204, 17153908, 17144693, 17151865, 17143163, 17150335, 17148290, 17154435, 17135493, 17160070, 17142149, 17147272, 17132938, 17132939, 17145738, 17150858, 17134478, 17150346, 17151376, 17141134, 17142674, 17138579, 17151896, 17154971, 17144221, 17140638, 17140126, 17143200, 17138593, 17133470, 17157540, 17131941, 17135013, 17142183, 17131943, 17132462, 17131952, 17137073, 17163699, 17143732, 17143222, 17152440, 17155514, 17141692, 17160640, 17134531, 17143750, 17131983, 17142736, 17151955, 17145811, 17152987, 17133531, 17137629, 17145822, 17152481, 17143267, 17159653, 17151466, 17152496, 17142769, 17134577, 17163251, 17145844, 17133557, 17161211, 17149948}\n"
     ]
    }
   ],
   "source": [
    "print(best & top)"
   ]
  },
  {
   "cell_type": "code",
   "execution_count": 19,
   "metadata": {},
   "outputs": [],
   "source": [
    "best_items = [\n",
    "    requests.get(f'https://hacker-news.firebaseio.com/v0/item/{item_id}.json?print=pretty').json()\n",
    "    for item_id in {17153540, 17143304, 17147404}\n",
    "]"
   ]
  },
  {
   "cell_type": "code",
   "execution_count": 24,
   "metadata": {},
   "outputs": [
    {
     "name": "stdout",
     "output_type": "stream",
     "text": [
      "1/200\t17153540\n",
      "2/200\t17143304\n",
      "3/200\t17147404\n",
      "4/200\t17132044\n",
      "5/200\t17155087\n",
      "6/200\t17148432\n",
      "7/200\t17158162\n",
      "8/200\t17132058\n",
      "9/200\t17142815\n",
      "10/200\t17154083\n",
      "11/200\t17148965\n",
      "12/200\t17134117\n",
      "13/200\t17147944\n",
      "14/200\t17149995\n",
      "15/200\t17155124\n",
      "16/200\t17155644\n",
      "17/200\t17157180\n",
      "18/200\t17142334\n",
      "19/200\t17160767\n",
      "20/200\t17153090\n",
      "21/200\t17134658\n",
      "22/200\t17150531\n",
      "23/200\t17151046\n",
      "24/200\t17134663\n",
      "25/200\t17151560\n",
      "26/200\t17134668\n",
      "27/200\t17140812\n",
      "28/200\t17146451\n",
      "29/200\t17143382\n",
      "30/200\t17142875\n",
      "31/200\t17137757\n",
      "32/200\t17159778\n",
      "33/200\t17145446\n",
      "34/200\t17139305\n",
      "35/200\t17138794\n",
      "36/200\t17137266\n",
      "37/200\t17152630\n",
      "38/200\t17152631\n",
      "39/200\t17141368\n",
      "40/200\t17150073\n",
      "41/200\t17137278\n",
      "42/200\t17143429\n",
      "43/200\t17162887\n",
      "44/200\t17134218\n",
      "45/200\t17134738\n",
      "46/200\t17133203\n",
      "47/200\t17135767\n",
      "48/200\t17143452\n",
      "49/200\t17160349\n",
      "50/200\t17155230\n",
      "51/200\t17161887\n",
      "52/200\t17161890\n",
      "53/200\t17149604\n",
      "54/200\t17139881\n",
      "55/200\t17131691\n",
      "56/200\t17133227\n",
      "57/200\t17136301\n",
      "58/200\t17138356\n",
      "59/200\t17151671\n",
      "60/200\t17153721\n",
      "61/200\t17139394\n",
      "62/200\t17147075\n",
      "63/200\t17140934\n",
      "64/200\t17143494\n",
      "65/200\t17135316\n",
      "66/200\t17132248\n",
      "67/200\t17162971\n",
      "68/200\t17142492\n",
      "69/200\t17143516\n",
      "70/200\t17132256\n",
      "71/200\t17135841\n",
      "72/200\t17143520\n",
      "73/200\t17161955\n",
      "74/200\t17134308\n",
      "75/200\t17135338\n",
      "76/200\t17154797\n",
      "77/200\t17139438\n",
      "78/200\t17134831\n",
      "79/200\t17146609\n",
      "80/200\t17131766\n",
      "81/200\t17143543\n",
      "82/200\t17133823\n",
      "83/200\t17152768\n",
      "84/200\t17146626\n",
      "85/200\t17138949\n",
      "86/200\t17163013\n",
      "87/200\t17159946\n",
      "88/200\t17154826\n",
      "89/200\t17137932\n",
      "90/200\t17150221\n",
      "91/200\t17152782\n",
      "92/200\t17162000\n",
      "93/200\t17146129\n",
      "94/200\t17134864\n",
      "95/200\t17133329\n",
      "96/200\t17152284\n",
      "97/200\t17148192\n",
      "98/200\t17141024\n",
      "99/200\t17145123\n",
      "100/200\t17155370\n",
      "101/200\t17144108\n",
      "102/200\t17150252\n",
      "103/200\t17135922\n",
      "104/200\t17154355\n",
      "105/200\t17151801\n",
      "106/200\t17157437\n",
      "107/200\t17161533\n",
      "108/200\t17134911\n",
      "109/200\t17161536\n",
      "110/200\t17157439\n",
      "111/200\t17135426\n",
      "112/200\t17153856\n",
      "113/200\t17151813\n",
      "114/200\t17160518\n",
      "115/200\t17140039\n",
      "116/200\t17143109\n",
      "117/200\t17135945\n",
      "118/200\t17159497\n",
      "119/200\t17162057\n",
      "120/200\t17161032\n",
      "121/200\t17159493\n",
      "122/200\t17160526\n",
      "123/200\t17161036\n",
      "124/200\t17150801\n",
      "125/200\t17140060\n",
      "126/200\t17153886\n",
      "127/200\t17144160\n",
      "128/200\t17133416\n",
      "129/200\t17162089\n",
      "130/200\t17133418\n",
      "131/200\t17156976\n",
      "132/200\t17134451\n",
      "133/200\t17145204\n",
      "134/200\t17153908\n",
      "135/200\t17144693\n",
      "136/200\t17151865\n",
      "137/200\t17143163\n",
      "138/200\t17150335\n",
      "139/200\t17148290\n",
      "140/200\t17154435\n",
      "141/200\t17143171\n",
      "142/200\t17135493\n",
      "143/200\t17160070\n",
      "144/200\t17142149\n",
      "145/200\t17147272\n",
      "146/200\t17132938\n",
      "147/200\t17132939\n",
      "148/200\t17145738\n",
      "149/200\t17150858\n",
      "150/200\t17134478\n",
      "151/200\t17150346\n",
      "152/200\t17151376\n",
      "153/200\t17141134\n",
      "154/200\t17142674\n",
      "155/200\t17138579\n",
      "156/200\t17151896\n",
      "157/200\t17154971\n",
      "158/200\t17144221\n",
      "159/200\t17140638\n",
      "160/200\t17140126\n",
      "161/200\t17143200\n",
      "162/200\t17138593\n",
      "163/200\t17133470\n",
      "164/200\t17157540\n",
      "165/200\t17131941\n",
      "166/200\t17135013\n",
      "167/200\t17142183\n",
      "168/200\t17131943\n",
      "169/200\t17132462\n",
      "170/200\t17131952\n",
      "171/200\t17137073\n",
      "172/200\t17163699\n",
      "173/200\t17143732\n",
      "174/200\t17143222\n",
      "175/200\t17152440\n",
      "176/200\t17155514\n",
      "177/200\t17141692\n",
      "178/200\t17160640\n",
      "179/200\t17134531\n",
      "180/200\t17143750\n",
      "181/200\t17131983\n",
      "182/200\t17142736\n",
      "183/200\t17151955\n",
      "184/200\t17145811\n",
      "185/200\t17152987\n",
      "186/200\t17133531\n",
      "187/200\t17137629\n",
      "188/200\t17145822\n",
      "189/200\t17152481\n",
      "190/200\t17143267\n",
      "191/200\t17159653\n",
      "192/200\t17151466\n",
      "193/200\t17152496\n",
      "194/200\t17142769\n",
      "195/200\t17134577\n",
      "196/200\t17163251\n",
      "197/200\t17145844\n",
      "198/200\t17133557\n",
      "199/200\t17161211\n",
      "200/200\t17149948\n"
     ]
    }
   ],
   "source": [
    "# best_ids = {17153540, 17143304, 17147404}\n",
    "best_ids = best\n",
    "best_items = []\n",
    "for i, item_id in enumerate(best_ids):\n",
    "    print(f'{i + 1}/{len(best_ids)}\\t{item_id}')\n",
    "    best_items.append(requests.get(f'https://hacker-news.firebaseio.com/v0/item/{item_id}.json?print=pretty').json())"
   ]
  },
  {
   "cell_type": "code",
   "execution_count": 35,
   "metadata": {},
   "outputs": [],
   "source": [
    "THE_BESTEST = list(filter(lambda x: x['score'] > 300 ,best_items))"
   ]
  },
  {
   "cell_type": "code",
   "execution_count": 26,
   "metadata": {},
   "outputs": [
    {
     "data": {
      "text/plain": [
       "{'by': 'mistaflu',\n",
       " 'descendants': 6,\n",
       " 'id': 17153540,\n",
       " 'kids': [17153841, 17154473, 17154037],\n",
       " 'score': 56,\n",
       " 'time': 1527255523,\n",
       " 'title': '30+ Machine Learning Resources',\n",
       " 'type': 'story',\n",
       " 'url': 'https://medium.com/@karamanbk/39-machine-learning-resources-that-will-help-you-in-every-essential-step-b2696515ed9'}"
      ]
     },
     "execution_count": 26,
     "metadata": {},
     "output_type": "execute_result"
    }
   ],
   "source": [
    "best_items[0]"
   ]
  },
  {
   "cell_type": "code",
   "execution_count": null,
   "metadata": {
    "scrolled": true
   },
   "outputs": [],
   "source": []
  },
  {
   "cell_type": "code",
   "execution_count": 50,
   "metadata": {},
   "outputs": [
    {
     "data": {
      "text/plain": [
       "dict_keys(['by', 'descendants', 'id', 'kids', 'score', 'time', 'title', 'type', 'url'])"
      ]
     },
     "execution_count": 50,
     "metadata": {},
     "output_type": "execute_result"
    }
   ],
   "source": [
    "THE_BESTEST[0].keys()"
   ]
  },
  {
   "cell_type": "code",
   "execution_count": 54,
   "metadata": {},
   "outputs": [],
   "source": [
    "THE_BESTEST = sorted(THE_BESTEST, key=lambda k: k['score'], reverse=True) "
   ]
  },
  {
   "cell_type": "code",
   "execution_count": 57,
   "metadata": {},
   "outputs": [
    {
     "data": {
      "text/plain": [
       "[(1292, 'Amazon device recorded private conversation, sent it out to '),\n",
       " (961, 'Bitcoin Gold Hit by Double Spend Attack, Exchanges Lose Mill'),\n",
       " (689, 'GDPR for lazy people: Block all European users with Cloudfla'),\n",
       " (626, 'Show HN: Wired-elements – UI web components with a hand draw'),\n",
       " (610, 'Why did I spend 1.5 months creating a Gameboy emulator? (201'),\n",
       " (515, 'Ask HN: Why is nearing completion so demotivating?'),\n",
       " (471, 'Algorithms and Data Structures Explained and Implemented in '),\n",
       " (470, 'The Bill Gates Line'),\n",
       " (453, 'Adobe Photoshop 1.0.1 Source Code (2013)'),\n",
       " (428, 'Apple rejects Valve’s Steam Link game streaming app over ‘bu'),\n",
       " (427, 'Filmstro: Royalty-Free Music'),\n",
       " (424, 'Command-line Tools can be 235x Faster than a Hadoop Cluster '),\n",
       " (423, 'Uber Self-Driving Car That Struck Pedestrian Wasn’t Set to S'),\n",
       " (420, 'Things to know about the GDPR, Mozilla and Firefox'),\n",
       " (405, 'Black: An uncompromising Python code formatter'),\n",
       " (404, \"Jeff Bezos announces Amazon is picking up 'The Expanse'\"),\n",
       " (394, 'Cool Backgrounds'),\n",
       " (390, 'GDPR Version of USA Today Is 500KB Instead of 5.2MB'),\n",
       " (384, 'Andy Rubin Puts Essential Up for Sale, Cancels Next Phone'),\n",
       " (366, 'GDPR: Programmatic ad buying plummets in Europe'),\n",
       " (362, 'The Awk Programming Language (1988) [pdf]'),\n",
       " (348, 'GDPR: US news sites unavailable to EU users over data protec'),\n",
       " (344, 'Harvard Classics Book Download'),\n",
       " (343, 'There are real reasons for Linux to replace ifconfig, netsta'),\n",
       " (321, 'Google and Facebook accused of breaking GDPR laws'),\n",
       " (314, 'Reality Driven Development: Fixing Project Management in Sof'),\n",
       " (307, 'Ditch the Batteries: Off-Grid Compressed Air Energy Storage'),\n",
       " (304, 'U.S. Launches Criminal Probe into Bitcoin Price Manipulation')]"
      ]
     },
     "execution_count": 57,
     "metadata": {},
     "output_type": "execute_result"
    }
   ],
   "source": [
    "[(x['score'], x['title'][:60]) for x in THE_BESTEST]"
   ]
  },
  {
   "cell_type": "code",
   "execution_count": 58,
   "metadata": {},
   "outputs": [],
   "source": [
    "hn_sorted = sorted(best_items, key=lambda k: k['score'], reverse=True) "
   ]
  },
  {
   "cell_type": "code",
   "execution_count": null,
   "metadata": {},
   "outputs": [],
   "source": []
  },
  {
   "cell_type": "code",
   "execution_count": 67,
   "metadata": {},
   "outputs": [],
   "source": [
    "def ago(e):\n",
    "    t = round(e / 1e3)\n",
    "    n = round(t / 60)\n",
    "    r = round(n / 60)\n",
    "    o = round(r / 24)\n",
    "    i = round(o / 30)\n",
    "    a = round(i / 12)\n",
    "    \n",
    "    if   e <  0: return         'just now'\n",
    "    elif t < 10: return          'just now'\n",
    "    elif t < 45: return str(t) + ' seconds ago'\n",
    "    elif t < 90: return          'a minute ago'\n",
    "    elif n < 45: return str(n) + ' minutes ago'\n",
    "    elif n < 90: return          'an hour ago' \n",
    "    elif r < 24: return str(r) + ' hours ago'\n",
    "    elif r < 36: return          'a day ago'\n",
    "    elif o < 30: return str(o) + ' days ago'\n",
    "    elif o < 45: return          'a month ago'\n",
    "    elif i < 12: return str(i) + ' months ago'\n",
    "    elif i < 18: return          'a year ago'\n",
    "    else:        return str(a) + ' years ago'"
   ]
  },
  {
   "cell_type": "code",
   "execution_count": 72,
   "metadata": {},
   "outputs": [
    {
     "data": {
      "text/plain": [
       "[(1292, 1527177240, '18 days ago', 'Amazon device record'),\n",
       " (961, 1527110011, '18 days ago', 'Bitcoin Gold Hit by '),\n",
       " (689, 1527263949, '18 days ago', 'GDPR for lazy people'),\n",
       " (626, 1527184155, '18 days ago', 'Show HN: Wired-eleme'),\n",
       " (610, 1527087472, '18 days ago', 'Why did I spend 1.5 '),\n",
       " (515, 1527113099, '18 days ago', 'Ask HN: Why is neari'),\n",
       " (471, 1527088751, '18 days ago', 'Algorithms and Data '),\n",
       " (470, 1527095772, '18 days ago', 'The Bill Gates Line'),\n",
       " (453, 1527061229, '18 days ago', 'Adobe Photoshop 1.0.'),\n",
       " (428, 1527241622, '18 days ago', 'Apple rejects Valve’'),\n",
       " (427, 1527066312, '18 days ago', 'Filmstro: Royalty-Fr'),\n",
       " (424, 1527095365, '18 days ago', 'Command-line Tools c'),\n",
       " (423, 1527171484, '18 days ago', 'Uber Self-Driving Ca'),\n",
       " (420, 1527251820, '18 days ago', 'Things to know about'),\n",
       " (405, 1527239257, '18 days ago', 'Black: An uncompromi'),\n",
       " (404, 1527315724, '18 days ago', 'Jeff Bezos announces'),\n",
       " (394, 1527194333, '18 days ago', 'Cool Backgrounds'),\n",
       " (390, 1527342656, '18 days ago', 'GDPR Version of USA '),\n",
       " (384, 1527196132, '18 days ago', 'Andy Rubin Puts Esse'),\n",
       " (366, 1527303771, '18 days ago', 'GDPR: Programmatic a'),\n",
       " (362, 1527133594, '18 days ago', 'The Awk Programming '),\n",
       " (348, 1527234412, '18 days ago', 'GDPR: US news sites '),\n",
       " (344, 1527315518, '18 days ago', 'Harvard Classics Boo'),\n",
       " (343, 1527228692, '18 days ago', 'There are real reaso'),\n",
       " (321, 1527247670, '18 days ago', 'Google and Facebook '),\n",
       " (314, 1527260557, '18 days ago', 'Reality Driven Devel'),\n",
       " (307, 1527163787, '18 days ago', 'Ditch the Batteries:'),\n",
       " (304, 1527151044, '18 days ago', 'U.S. Launches Crimin'),\n",
       " (290, 1527095858, '18 days ago', 'Judge Rules Trump Ca'),\n",
       " (286, 1527114282, '18 days ago', 'Apple Signs Deal wit'),\n",
       " (283, 1527267691, '18 days ago', \"What's Going on in Y\"),\n",
       " (281, 1527189196, '18 days ago', 'Show HN: Parabola.io'),\n",
       " (276, 1527167104, '18 days ago', 'StumbleUpon closing '),\n",
       " (266, 1527341276, '18 days ago', 'FBI tells router use'),\n",
       " (266, 1527168355, '18 days ago', 'Netflix is now worth'),\n",
       " (265, 1527297031, '18 days ago', 'Ghostery exposed eve'),\n",
       " (261, 1527071753, '18 days ago', 'Earth-Moon Fire Pole'),\n",
       " (257, 1527356271, '18 days ago', 'The Importance of De'),\n",
       " (251, 1527071743, '18 days ago', 'Stopping the RSI pai'),\n",
       " (250, 1527129961, '18 days ago', 'Instapaper is tempor'),\n",
       " (250, 1527059514, '18 days ago', 'Foundations of Data '),\n",
       " (248, 1527279559, '18 days ago', 'Mussels test positiv'),\n",
       " (241, 1527190066, '18 days ago', 'In Twitter’s early d'),\n",
       " (232, 1527166721, '18 days ago', 'ReasonML – React as '),\n",
       " (226, 1527054300, '18 days ago', 'How to become a part'),\n",
       " (224, 1527122238, '18 days ago', 'Google Home Beats Am'),\n",
       " (224, 1527086417, '18 days ago', 'US Employee in China'),\n",
       " (222, 1527267029, '18 days ago', 'Birds had to relearn'),\n",
       " (220, 1527180322, '18 days ago', 'The Egg (2009)'),\n",
       " (219, 1527166453, '18 days ago', 'Zuckerberg set up fr'),\n",
       " (216, 1527212447, '18 days ago', 'Free Music Archive'),\n",
       " (212, 1527103355, '18 days ago', \"I wish mum's phone w\"),\n",
       " (211, 1527171060, '18 days ago', 'Pornhub launches VPN'),\n",
       " (202, 1527094911, '18 days ago', \"China's social credi\"),\n",
       " (201, 1527164140, '18 days ago', 'GDPR Hall of Shame'),\n",
       " (199, 1527171774, '18 days ago', 'Postgres 11 Beta 1 r'),\n",
       " (192, 1527187760, '18 days ago', 'Three Charged in Fat'),\n",
       " (188, 1527182028, '18 days ago', 'Kubernetes Container'),\n",
       " (188, 1527093206, '18 days ago', 'Digital Capitalism’s'),\n",
       " (188, 1527102056, '18 days ago', 'From Java to Kotlin '),\n",
       " (184, 1527257688, '18 days ago', 'Flipping the Metabol'),\n",
       " (179, 1527111593, '18 days ago', 'Civ 5 AI battle – Al'),\n",
       " (179, 1527105439, '18 days ago', 'Snap Inc. presents Y'),\n",
       " (177, 1527200086, '18 days ago', 'Apple Wins $539M fro'),\n",
       " (173, 1527257824, '18 days ago', 'Intel AI open-source'),\n",
       " (172, 1527213711, '18 days ago', 'Intel Xeon processor'),\n",
       " (171, 1527124049, '18 days ago', 'NASA’s Curiosity Rov'),\n",
       " (170, 1527225365, '18 days ago', 'ML Beyond Curve Fitt'),\n",
       " (169, 1527180488, '18 days ago', \"Google 'stole my vid\"),\n",
       " (164, 1527087442, '18 days ago', 'How gut microbes are'),\n",
       " (163, 1527235757, '18 days ago', 'Technical Writing: L'),\n",
       " (163, 1527278939, '18 days ago', 'Ask HN: \"Creative\" w'),\n",
       " (163, 1527247513, '18 days ago', 'Continuous Domain Ga'),\n",
       " (162, 1527107283, '18 days ago', 'Coinbase acquires de'),\n",
       " (159, 1527240149, '18 days ago', 'The GDPR blog post'),\n",
       " (158, 1527263164, '18 days ago', \"Apple's 7nm A12 chip\"),\n",
       " (157, 1527084834, '18 days ago', 'Letting neural netwo'),\n",
       " (157, 1527215750, '18 days ago', 'Totalbiscuit, one of'),\n",
       " (154, 1527159614, '18 days ago', 'A self-driving toy c'),\n",
       " (154, 1527184994, '18 days ago', 'RIP Robin “Roblimo” '),\n",
       " (153, 1527089282, '18 days ago', 'Centrifuge: a reliab'),\n",
       " (153, 1527086013, '18 days ago', 'My First Year of Fre'),\n",
       " (152, 1527089035, '18 days ago', 'The US military is f'),\n",
       " (152, 1527343704, '18 days ago', 'Antibiotics in Meat '),\n",
       " (150, 1527264796, '18 days ago', 'Gym Retro'),\n",
       " (148, 1527252349, '18 days ago', 'Has there been progr'),\n",
       " (148, 1527240664, '18 days ago', 'Best Practices with '),\n",
       " (144, 1527087407, '18 days ago', 'China’s Payment Apps'),\n",
       " (144, 1527117774, '18 days ago', 'Why Do Americans Sta'),\n",
       " (142, 1527131872, '18 days ago', 'Tesla Accused of Dec'),\n",
       " (142, 1527063637, '18 days ago', 'Ask HN: Learning mul'),\n",
       " (140, 1527165903, '18 days ago', 'NASA is bringing cry'),\n",
       " (140, 1527207008, '18 days ago', 'Show HN: Chromely – '),\n",
       " (139, 1527088002, '18 days ago', 'The History of the P'),\n",
       " (136, 1527077221, '18 days ago', '‘We Got to Be Cool A'),\n",
       " (135, 1527239124, '18 days ago', 'In Germany, the use '),\n",
       " (134, 1527159017, '18 days ago', 'American society inc'),\n",
       " (132, 1527111512, '18 days ago', 'OS X is as old as th'),\n",
       " (131, 1527061040, '18 days ago', 'Visualizing Two Cent'),\n",
       " (130, 1527097873, '18 days ago', 'Deadly Chinese Fenta'),\n",
       " (128, 1527083186, '18 days ago', 'UK ISPs have to stop'),\n",
       " (128, 1527158720, '18 days ago', 'Every 202,500 Years,'),\n",
       " (127, 1527248888, '18 days ago', 'Show HN: NimForum – '),\n",
       " (127, 1527085792, '18 days ago', 'The Weather Channel '),\n",
       " (125, 1527092048, '18 days ago', 'No one’s ready for G'),\n",
       " (122, 1527179937, '18 days ago', 'Suggestive Drawing A'),\n",
       " (119, 1527078699, '18 days ago', 'Lisp in Jak and Daxt'),\n",
       " (117, 1527217775, '18 days ago', 'Mortgage rates have '),\n",
       " (117, 1527246962, '18 days ago', 'The forgotten 80s ho'),\n",
       " (116, 1527084065, '18 days ago', 'Apple Avoids Amazon’'),\n",
       " (116, 1527237228, '18 days ago', 'Illustration in the '),\n",
       " (110, 1527226243, '18 days ago', 'Tesla that crashed i'),\n",
       " (109, 1527123835, '18 days ago', 'Computing Partial Di'),\n",
       " (109, 1527180382, '18 days ago', '3D Face Reconstructi'),\n",
       " (108, 1527299252, '18 days ago', 'The Old Robots'),\n",
       " (106, 1527103428, '18 days ago', 'Regional Persistent '),\n",
       " (104, 1527193015, '18 days ago', 'The Last Days of Tim'),\n",
       " (104, 1527157949, '18 days ago', 'A simple mechanism c'),\n",
       " (102, 1527300873, '18 days ago', 'Dungeons and Dragons'),\n",
       " (101, 1527277261, '18 days ago', 'Supernova-propelled '),\n",
       " (101, 1527075256, '18 days ago', 'How We Found Great T'),\n",
       " (101, 1527063571, '18 days ago', 'In which Apple destr'),\n",
       " (101, 1527261156, '18 days ago', 'How Amazon Plans To '),\n",
       " (99, 1527178504, '18 days ago', 'Internal Documents S'),\n",
       " (99, 1527092829, '18 days ago', 'The demise of r/scie'),\n",
       " (99, 1527077810, '18 days ago', 'Showdown: MySQL 8 vs'),\n",
       " (97, 1527163105, '18 days ago', 'Assessing Cavium’s T'),\n",
       " (96, 1527153316, '18 days ago', 'On Counting (2017)'),\n",
       " (94, 1527059728, '18 days ago', 'Can Things Be Both P'),\n",
       " (93, 1527164970, '18 days ago', 'Interview with Deliv'),\n",
       " (92, 1527155262, '18 days ago', 'Mathematical Educati'),\n",
       " (91, 1527086843, '18 days ago', 'Sleeping in on the w'),\n",
       " (90, 1527341241, '18 days ago', 'Go Is a Shop-built J'),\n",
       " (89, 1527216216, '18 days ago', 'Tor: 1100 relays sti'),\n",
       " (89, 1527343362, '18 days ago', 'Update: The agenda-d'),\n",
       " (88, 1527264591, '18 days ago', 'Soundex'),\n",
       " (86, 1527092136, '18 days ago', 'The Average Age and '),\n",
       " (86, 1527325858, '18 days ago', 'One parameter is alw'),\n",
       " (85, 1527117063, '18 days ago', 'Consider using Digit'),\n",
       " (85, 1527353394, '18 days ago', 'The DisplayPort Pin '),\n",
       " (85, 1527166898, '18 days ago', 'React 16.4 release n'),\n",
       " (85, 1527245419, '18 days ago', 'Vevo could have been'),\n",
       " (85, 1527266152, '18 days ago', 'Drone Pilots’ Pay is'),\n",
       " (85, 1527335315, '18 days ago', 'PatternFly – a web U'),\n",
       " (84, 1527258904, '18 days ago', 'On “From Java to Kot'),\n",
       " (83, 1527055899, '18 days ago', 'Dealership Makes Wom'),\n",
       " (83, 1527059556, '18 days ago', 'Associations of egg '),\n",
       " (82, 1527075055, '18 days ago', 'Ineffective Entrepre'),\n",
       " (82, 1527135018, '18 days ago', 'ECMA TC39: “SmooshGa'),\n",
       " (81, 1527352460, '18 days ago', 'Mozilla to remove “m'),\n",
       " (80, 1527140468, '18 days ago', 'Drawpile is a free s'),\n",
       " (80, 1527185094, '18 days ago', 'Chasing missing SIGI'),\n",
       " (80, 1527250312, '18 days ago', 'Infection Monkey – A'),\n",
       " (80, 1527076316, '18 days ago', 'To Kill a Centrifuge'),\n",
       " (80, 1527335256, '18 days ago', 'Mint-lang: a languag'),\n",
       " (77, 1527217946, '18 days ago', 'Avail Programming La'),\n",
       " (76, 1527160403, '18 days ago', 'Some frustrated publ'),\n",
       " (76, 1527168525, '18 days ago', 'Places in the U.S. W'),\n",
       " (75, 1527221211, '18 days ago', 'Follow the CAPEX: Se'),\n",
       " (75, 1527080964, '18 days ago', 'MIT Autonomous Vehic'),\n",
       " (75, 1527174386, '18 days ago', 'Someone Has Infected'),\n",
       " (75, 1527306068, '18 days ago', 'Parallel Index Scans'),\n",
       " (75, 1527145589, '18 days ago', 'Should Psychiatry Te'),\n",
       " (74, 1527263282, '18 days ago', 'Publish everything y'),\n",
       " (73, 1527165283, '18 days ago', 'Kroger acquires Home'),\n",
       " (72, 1527250209, '18 days ago', 'Ask HN: Is WebDav st'),\n",
       " (72, 1527297011, '18 days ago', 'Learning Nix by Exam'),\n",
       " (72, 1527124676, '18 days ago', 'America is losing th'),\n",
       " (71, 1527257489, '18 days ago', 'Announcing CERT Tapi'),\n",
       " (71, 1527060106, '18 days ago', 'Ask HN: Apple shutte'),\n",
       " (70, 1527176746, '18 days ago', 'CPAP: Back-up power '),\n",
       " (69, 1527311580, '18 days ago', 'Command Line and Win'),\n",
       " (69, 1527265351, '18 days ago', \"What's New in DevToo\"),\n",
       " (66, 1527248890, '18 days ago', 'In a Warming West, t'),\n",
       " (65, 1527166273, '18 days ago', 'Thanks to facial rec'),\n",
       " (65, 1527278951, '18 days ago', 'Golden Rice meets fo'),\n",
       " (64, 1527078361, '18 days ago', 'Show HN: Nighthawk: '),\n",
       " (64, 1527328938, '18 days ago', 'GDPR: noyb.eu filed '),\n",
       " (63, 1527275780, '18 days ago', 'GDPR'),\n",
       " (63, 1527361236, '18 days ago', 'Alan Bean, 4th Perso'),\n",
       " (62, 1527166930, '18 days ago', 'What Is Spacetime?'),\n",
       " (62, 1527342114, '18 days ago', '30 years later, QBas'),\n",
       " (62, 1527195005, '18 days ago', 'Coyotes Conquered No'),\n",
       " (61, 1527089973, '18 days ago', 'U.S. Government Can’'),\n",
       " (61, 1527211973, '18 days ago', 'Lonnie Johnson’s Mys'),\n",
       " (58, 1527106291, '18 days ago', 'Tor 0.3.3.6 released'),\n",
       " (58, 1527353857, '18 days ago', 'Why Is Location Data'),\n",
       " (58, 1527136639, '18 days ago', 'Hawaiian Volcano Obs'),\n",
       " (58, 1527318693, '18 days ago', 'It’s always windy so'),\n",
       " (57, 1527163902, '18 days ago', 'Bloomberg: In an era'),\n",
       " (56, 1527255523, '18 days ago', '30+ Machine Learning'),\n",
       " (56, 1527256614, '18 days ago', 'The ReCode Project, '),\n",
       " (56, 1527325926, '18 days ago', 'Prenatal Fluoride Ex'),\n",
       " (55, 1527150618, '18 days ago', 'The effects of socia'),\n",
       " (54, 1527283801, '18 days ago', 'Seattle now decade’s'),\n",
       " (54, 1527233066, '18 days ago', 'Mississippi River Ba'),\n",
       " (53, 1527077235, '18 days ago', 'The future of AutoCA'),\n",
       " (50, 1527118282, '18 days ago', 'Bash-5.0-alpha avail'),\n",
       " (48, 1527321451, '18 days ago', 'Solar energy compani'),\n",
       " (48, 1527164345, '18 days ago', 'The Node.js Ecosyste')]"
      ]
     },
     "execution_count": 72,
     "metadata": {},
     "output_type": "execute_result"
    }
   ],
   "source": [
    "[(x['score'], x['time'], ago(x['time']), x['title'][:20]) for x in hn_sorted]"
   ]
  },
  {
   "cell_type": "code",
   "execution_count": 62,
   "metadata": {},
   "outputs": [
    {
     "ename": "SyntaxError",
     "evalue": "invalid syntax (<ipython-input-62-7edca912b7d6>, line 1)",
     "output_type": "error",
     "traceback": [
      "\u001b[0;36m  File \u001b[0;32m\"<ipython-input-62-7edca912b7d6>\"\u001b[0;36m, line \u001b[0;32m1\u001b[0m\n\u001b[0;31m    u = 5 < 3 ? 1:0\u001b[0m\n\u001b[0m              ^\u001b[0m\n\u001b[0;31mSyntaxError\u001b[0m\u001b[0;31m:\u001b[0m invalid syntax\n"
     ]
    }
   ],
   "source": [
    "u = 5 < 3 ? 1:0\n",
    "u"
   ]
  },
  {
   "cell_type": "code",
   "execution_count": 74,
   "metadata": {},
   "outputs": [
    {
     "data": {
      "text/plain": [
       "1527066"
      ]
     },
     "execution_count": 74,
     "metadata": {},
     "output_type": "execute_result"
    }
   ],
   "source": [
    "round(1527066312 / 1e3)"
   ]
  },
  {
   "cell_type": "code",
   "execution_count": null,
   "metadata": {},
   "outputs": [],
   "source": []
  }
 ],
 "metadata": {
  "kernelspec": {
   "display_name": "Python 3",
   "language": "python",
   "name": "python3"
  },
  "language_info": {
   "codemirror_mode": {
    "name": "ipython",
    "version": 3
   },
   "file_extension": ".py",
   "mimetype": "text/x-python",
   "name": "python",
   "nbconvert_exporter": "python",
   "pygments_lexer": "ipython3",
   "version": "3.6.4"
  }
 },
 "nbformat": 4,
 "nbformat_minor": 2
}
